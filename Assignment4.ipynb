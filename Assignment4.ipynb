{
 "cells": [
  {
   "cell_type": "markdown",
   "metadata": {},
   "source": [
    "1.1 Write a Python Program(with class concepts) to find the area of the triangle using the below\n",
    "formula.\n",
    "area = (s*(s-a)*(s-b)*(s-c)) ** 0.5\n",
    "Function to take the length of the sides of triangle from user should be defined in the parent\n",
    "class and function to calculate the area should be defined in subclass."
   ]
  },
  {
   "cell_type": "code",
   "execution_count": 24,
   "metadata": {},
   "outputs": [],
   "source": [
    "class TriangleInfo:\n",
    "      \n",
    "    def __str__(self):\n",
    "        return \"Three sides of a triangle are %d, %d, %d \" %(self.side1,self.side2,self.side3)\n",
    "    \n",
    "    def _takeSidesInputFromUsers_(self):\n",
    "        sides_input = input(\"Please enter measurement of sides of a triangle separated by comma -\")\n",
    "        sides = sides_input.split(\",\")\n",
    "        self.a=int(sides[0])\n",
    "        self.b=int(sides[1])\n",
    "        self.c=int(sides[2])\n",
    "        return self\n",
    " \n"
   ]
  },
  {
   "cell_type": "code",
   "execution_count": 27,
   "metadata": {
    "scrolled": true
   },
   "outputs": [
    {
     "name": "stdout",
     "output_type": "stream",
     "text": [
      "Please enter measurement of sides of a triangle separated by comma -4,5,6\n"
     ]
    },
    {
     "data": {
      "text/plain": [
       "'Area of the triangle for sides 4,5,6 is 9'"
      ]
     },
     "execution_count": 27,
     "metadata": {},
     "output_type": "execute_result"
    }
   ],
   "source": [
    "class TriangleArea(TriangleInfo):\n",
    "    def __init__(self):\n",
    "        super(TriangleArea,self)._takeSidesInputFromUsers_()\n",
    "        a=self.a\n",
    "        b=self.b\n",
    "        c=self.c\n",
    "        s=(a+b+c)/2\n",
    "        self.area= (s*(s-a)*(s-b)*(s-c)) ** 0.5\n",
    "  \n",
    "    def __str__(self):\n",
    "          return \"Area of the triangle for sides %d,%d,%d is %d\"%(self.a,self.b,self.c,self.area)\n",
    "    \n",
    "TriangleArea().__str__()"
   ]
  },
  {
   "cell_type": "markdown",
   "metadata": {},
   "source": [
    "1.2 Write a function filter_long_words() that takes a list of words and an integer n and returns\n",
    "the list of words that are longer than n."
   ]
  },
  {
   "cell_type": "code",
   "execution_count": 30,
   "metadata": {},
   "outputs": [
    {
     "name": "stdout",
     "output_type": "stream",
     "text": [
      "Enter words and an integer 'n' with comma to find words longer than n in the list::dfv,340r,fdvkmf dfvffnoirgi344fvfv,10\n",
      "List of input words and integer :: ['dfv', '340r', 'fdvkmf dfvffnoirgi344fvfv', '10']\n",
      "List of words longer than n in the list -- ['fdvkmf dfvffnoirgi344fvfv']\n"
     ]
    }
   ],
   "source": [
    "def longerWords(wordLst,limit):\n",
    "    listOfWordsLongerThanLimit=[]\n",
    "    for word in wordLst:\n",
    "        if (len(word) > limit):\n",
    "            listOfWordsLongerThanLimit.append(word)\n",
    "        \n",
    "    return listOfWordsLongerThanLimit\n",
    "\n",
    "wordsWithSpace=input(\"Enter words and an integer 'n' with comma to find words longer than n in the list::\")\n",
    "list_of_words = wordsWithSpace.split(',')\n",
    "print(\"List of input words and integer ::\",list_of_words)\n",
    "print(\"List of words longer than n in the list --\",longerWords(list_of_words[:-1:],int(list_of_words[-1])))"
   ]
  },
  {
   "cell_type": "code",
   "execution_count": null,
   "metadata": {},
   "outputs": [],
   "source": [
    "2.1 Write a Python program using function concept that maps list of words into a list of integers\n",
    "representing the lengths of the corresponding words.\n",
    "Hint: If a list [ ab,cde,erty] is passed on to the python function output should come as [2,3,4]\n",
    "Here 2,3 and 4 are the lengths of the words in the list."
   ]
  },
  {
   "cell_type": "code",
   "execution_count": 31,
   "metadata": {},
   "outputs": [
    {
     "name": "stdout",
     "output_type": "stream",
     "text": [
      "mapping words to their length for input ['sdfwef','hellohowareyou','incredibleindia','wewillovercomecovidsoon']:: [6, 14, 15, 23]\n"
     ]
    }
   ],
   "source": [
    "def mapWordsIntoLength(wordLst):\n",
    "    word_length_list = []\n",
    "    for word in wordLst:\n",
    "        word_length_list.append(len(word))\n",
    "    return word_length_list\n",
    "\n",
    "print(\"mapping words to their length for input ['sdfwef','hellohowareyou','incredibleindia','wewillovercomecovidsoon']::\",mapWordsIntoLength(['sdfwef','hellohowareyou','incredibleindia','wewillovercomecovidsoon']))\n",
    "        "
   ]
  },
  {
   "cell_type": "markdown",
   "metadata": {},
   "source": [
    "2.2 Write a Python function which takes a character (i.e. a string of length 1) and returns True if\n",
    "it is a vowel, False otherwise."
   ]
  },
  {
   "cell_type": "code",
   "execution_count": 36,
   "metadata": {},
   "outputs": [
    {
     "name": "stdout",
     "output_type": "stream",
     "text": [
      "Enter any character to check if the same is a vowel::i\n",
      "Is char  i  is vowel - True\n"
     ]
    }
   ],
   "source": [
    "def isCharVowel(char):\n",
    "    vowel_list = ['a','e','i','o','u']\n",
    "    for vowel in vowel_list:\n",
    "        if(char in vowel):\n",
    "            return True\n",
    "    return False\n",
    "        \n",
    "char=input(\"Enter any character to check if the same is a vowel::\")\n",
    "print(\"Is char \",char,\" is vowel -\",isCharVowel(char))"
   ]
  }
 ],
 "metadata": {
  "kernelspec": {
   "display_name": "Python 3",
   "language": "python",
   "name": "python3"
  },
  "language_info": {
   "codemirror_mode": {
    "name": "ipython",
    "version": 3
   },
   "file_extension": ".py",
   "mimetype": "text/x-python",
   "name": "python",
   "nbconvert_exporter": "python",
   "pygments_lexer": "ipython3",
   "version": "3.7.1"
  }
 },
 "nbformat": 4,
 "nbformat_minor": 2
}
