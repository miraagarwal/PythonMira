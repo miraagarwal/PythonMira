{
 "cells": [
  {
   "cell_type": "markdown",
   "metadata": {},
   "source": [
    " 1. Write a Python Program to implement your own myreduce() function which works exactly like Python's built-in function      reduce()"
   ]
  },
  {
   "cell_type": "code",
   "execution_count": 3,
   "metadata": {},
   "outputs": [
    {
     "name": "stdout",
     "output_type": "stream",
     "text": [
      "Sum of all element in list a : abccdefgh\n",
      "Product of all elements in list a : 2135987035920910082395021706169552114602704522356652769947041607822219725780640550022962086936576\n"
     ]
    }
   ],
   "source": [
    "#The reduce(fun,seq) function is used to apply a particular function passed in its argument to all of the list elements \n",
    "#mentioned in the sequence passed along.\n",
    "\n",
    "def myreduce(fun, lst):\n",
    "    x = lst[0]\n",
    "    \n",
    "    for i in range(1, len(lst)):\n",
    "        x = fun(x, lst[i])\n",
    "    \n",
    "    return x\n",
    "\n",
    "def add(x1, x2):\n",
    "    return x1 + x2\n",
    "\n",
    "def power(x1, x2):\n",
    "    return(x1 ** x2)\n",
    "\n",
    "a = ['abc','cde','fgh']\n",
    "b = [2,4,8,10]\n",
    "\n",
    "print(\"Sum of all element in list a :\", myreduce(add, a))\n",
    "print(\"Product of all elements in list a :\", myreduce(power, b))\n"
   ]
  },
  {
   "cell_type": "markdown",
   "metadata": {},
   "source": [
    "2. Write a Python program to implement your own myfilter() function which works exactly like\n",
    "   Python's built-in function filter()"
   ]
  },
  {
   "cell_type": "code",
   "execution_count": 9,
   "metadata": {},
   "outputs": [
    {
     "name": "stdout",
     "output_type": "stream",
     "text": [
      "Filtering lst1 using even functionality: [2, 4]\n",
      "Filtering lst2 if divisible by 3: [3, 99, 42]\n"
     ]
    }
   ],
   "source": [
    "#The filter() method filters the given sequence with the help of a function that tests each element in the sequence to be true or not.\n",
    "\n",
    "def checkIfEven (a):\n",
    "    if a%2 == 0:\n",
    "        return True\n",
    "    else:\n",
    "        return False\n",
    "    \n",
    "def checkIfDivisibleBy3 (a):\n",
    "    if a%3 == 0:\n",
    "        return True\n",
    "    else:\n",
    "        return False\n",
    "    \n",
    "def myfilter(func,mylst):\n",
    "    myFilterLst=[]\n",
    "    for inp in mylst:\n",
    "        if (func(inp)):\n",
    "            myFilterLst.append(inp)\n",
    "    return myFilterLst\n",
    "        \n",
    "lst1=[1,2,3,4,5]\n",
    "lst2=[3,2,99,7,42]\n",
    "print(\"Filtering lst1 using even functionality:\",myfilter(checkIfEven,lst1))\n",
    "print(\"Filtering lst2 if divisible by 3:\",myfilter(checkIfDivisibleBy3,lst2))"
   ]
  },
  {
   "cell_type": "code",
   "execution_count": null,
   "metadata": {},
   "outputs": [],
   "source": [
    "3. Implement List comprehensions to produce the following lists.\n",
    "   Write List comprehensions to produce the following Lists\n",
    "\n",
    "['x, 'xx', 'xxx', 'xxxx', 'y', 'yy', 'yyy', 'yyyy', 'z', 'zz', 'zzz', 'zzzz']\n",
    "\n",
    "['x', 'y', 'z', 'xx', 'yy', 'zz', 'xx', 'yy', 'zz', 'xxxx', 'yyyy', 'zzzz']\n",
    "\n",
    "[[2], [3], [4], [3], [4], [5], [4], [5], [6]]\n",
    "\n",
    "[[2, 3, 4, 5], [3, 4, 5, 6], [4, 5, 6, 7], [5, 6, 7, 8]]\n",
    "\n",
    "[(1, 1), (2, 1), (3, 1), (1, 2), (2, 2), (3, 2), (1, 3), (2, 3), (3, 3)]"
   ]
  },
  {
   "cell_type": "code",
   "execution_count": 5,
   "metadata": {},
   "outputs": [
    {
     "name": "stdout",
     "output_type": "stream",
     "text": [
      "['x', 'xx', 'xxx', 'xxxx', 'y', 'yy', 'yyy', 'yyyy', 'z', 'zz', 'zzz', 'zzzz']\n",
      "['x', 'y', 'z', 'xx', 'yy', 'zz', 'xxx', 'yyy', 'zzz', 'xxxx', 'yyyy', 'zzzz']\n",
      "[[2], [3], [4], [3], [4], [5], [4], [5], [6]]\n",
      "[[2, 3, 4, 5], [3, 4, 5, 6], [4, 5, 6, 7], [5, 6, 7, 8]]\n",
      "[(1, 1), (2, 1), (3, 1), (1, 2), (2, 2), (3, 2), (1, 3), (2, 3), (3, 3)]\n"
     ]
    }
   ],
   "source": [
    "def createPattern1(inp1):\n",
    "    pattern = []\n",
    "    for alphabet in inp1:\n",
    "        for i in range(1,5):\n",
    "            result = alphabet*i\n",
    "            pattern.append(result)\n",
    "            \n",
    "    return pattern \n",
    "\n",
    "def createPattern2(inp1):\n",
    "    pattern = []\n",
    "    for i in range(1,5):\n",
    "        for alphabet in inp1:\n",
    "            pattern.append(alphabet*i)\n",
    "    return pattern  \n",
    "\n",
    "def createPattern3():\n",
    "    pattern = []\n",
    "    for start in range(3):\n",
    "        counter = 0\n",
    "        for i in range(2+start,7):\n",
    "            if (counter <= 2):\n",
    "                pattern.append([i])\n",
    "                counter=counter+1\n",
    "    return pattern\n",
    "\n",
    "def createPattern4():\n",
    "    pattern = []\n",
    "    for start in range(4):\n",
    "        for i in range(2+start,6):\n",
    "            pattern.append([i,i+1,i+2,i+3])\n",
    "        return pattern\n",
    "    \n",
    "def createPattern5():\n",
    "    pattern = []\n",
    "    const =1\n",
    "    for j in range(0,3):\n",
    "        for i in range(0,3):\n",
    "            pattern.append((i+const,const+j))\n",
    "    return pattern       \n",
    "    \n",
    "\n",
    "inp = 'xyz'\n",
    "print(createPattern1(inp))\n",
    "print(createPattern2(inp))\n",
    "print(createPattern3())\n",
    "print(createPattern4())\n",
    "print(createPattern5())\n",
    "    "
   ]
  },
  {
   "cell_type": "markdown",
   "metadata": {},
   "source": [
    "Implement a function longestWord() that takes a list of words and returns the longest one."
   ]
  },
  {
   "cell_type": "code",
   "execution_count": 10,
   "metadata": {},
   "outputs": [
    {
     "name": "stdout",
     "output_type": "stream",
     "text": [
      "Enter words with space to find longest word in the list-dsnjgsio kdjksfnesiogbdnvios 45tf 6789 ogrgo@#\n",
      "kdjksfnesiogbdnvios\n"
     ]
    }
   ],
   "source": [
    "\n",
    "def longestWord(wordLst):\n",
    "    listOfWordLength=[]\n",
    "    for word in wordLst:\n",
    "        listOfWordLength.append(len(word))\n",
    "    return(wordLst[listOfWordLength.index(max(listOfWordLength))])\n",
    "\n",
    "\n",
    "wordsWithSpace=input(\"Enter words with space to find longest word in the list-\")\n",
    "list_of_words = wordsWithSpace.split(' ')\n",
    "print(longestWord(list_of_words))\n",
    "        \n",
    "    "
   ]
  },
  {
   "cell_type": "code",
   "execution_count": null,
   "metadata": {},
   "outputs": [],
   "source": []
  },
  {
   "cell_type": "markdown",
   "metadata": {},
   "source": [
    "Write a Python function which takes a character (i.e. a string of length 1) and returns True if it is\n",
    "a vowel, False otherwise."
   ]
  }
 ],
 "metadata": {
  "kernelspec": {
   "display_name": "Python 3",
   "language": "python",
   "name": "python3"
  },
  "language_info": {
   "codemirror_mode": {
    "name": "ipython",
    "version": 3
   },
   "file_extension": ".py",
   "mimetype": "text/x-python",
   "name": "python",
   "nbconvert_exporter": "python",
   "pygments_lexer": "ipython3",
   "version": "3.7.1"
  }
 },
 "nbformat": 4,
 "nbformat_minor": 2
}
