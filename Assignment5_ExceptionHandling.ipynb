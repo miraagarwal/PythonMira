{
 "cells": [
  {
   "cell_type": "markdown",
   "metadata": {},
   "source": [
    "1. Write a function to compute 5/0 and use try/except to catch the exceptions.\n"
   ]
  },
  {
   "cell_type": "code",
   "execution_count": 3,
   "metadata": {},
   "outputs": [
    {
     "name": "stdout",
     "output_type": "stream",
     "text": [
      "Exception occured. Division is not possible with zero\n",
      "Finally executed!\n"
     ]
    }
   ],
   "source": [
    "def handleExceptions():\n",
    "    try:\n",
    "        output=5/0\n",
    "        print(output)\n",
    "    except:\n",
    "        print(\"Exception occured. Division is not possible with zero\")\n",
    "    else:\n",
    "        print(\"Unexpectedly, try block executed successfully!\")\n",
    "    finally:\n",
    "        print(\"Finally executed!\")\n",
    "        \n",
    "handleExceptions()"
   ]
  },
  {
   "cell_type": "code",
   "execution_count": null,
   "metadata": {},
   "outputs": [],
   "source": [
    "2. Implement a Python program to generate all sentences \n",
    "where subject is in\n",
    "[\"Americans\", \"Indians\"] \n",
    "and verb is in [\"Play\", \"watch\"] \n",
    "and the object is in\n",
    "[\"Baseball\",\"cricket\"].\n",
    "\n",
    "Hint: Subject,Verb and Object should be declared in the program as shown below.\n",
    "subjects=[\"Americans \",\"Indians\"]\n",
    "verbs=[\"play\",\"watch\"]\n",
    "objects=[\"Baseball\",\"Cricket\"]\n",
    "\n",
    "Output should come as below:\n",
    "Americans play Baseball.\n",
    "Americans play Cricket.\n",
    "Americans watch Baseball.\n",
    "Americans watch Cricket.\n",
    "Indians play Baseball.\n",
    "Indians play Cricket.\n",
    "Indians watch Baseball.\n",
    "Indians watch Cricket."
   ]
  },
  {
   "cell_type": "code",
   "execution_count": 9,
   "metadata": {},
   "outputs": [
    {
     "name": "stdout",
     "output_type": "stream",
     "text": [
      "Americans Play Baseball\n",
      "Americans Play cricket\n",
      "Americans watch Baseball\n",
      "Americans watch cricket\n",
      "Indians Play Baseball\n",
      "Indians Play cricket\n",
      "Indians watch Baseball\n",
      "Indians watch cricket\n",
      "Try block executed successfully!\n"
     ]
    }
   ],
   "source": [
    "def sentenceGenerator():\n",
    "    subjects=[\"Americans\", \"Indians\"]\n",
    "    verbs=[\"Play\", \"watch\"]\n",
    "    objects=[\"Baseball\",\"cricket\"]\n",
    "    \n",
    "    try:\n",
    "        for subject in subjects:\n",
    "            for verb in verbs:\n",
    "                for object in objects:\n",
    "                    print(\"{} {} {}\".format(subject,verb,object))\n",
    "    except:\n",
    "        print(\"Exception occured in for loops, Please try again\")\n",
    "    else:\n",
    "        print(\"Try block executed successfully!\")\n",
    "                \n",
    "sentenceGenerator()"
   ]
  },
  {
   "cell_type": "code",
   "execution_count": null,
   "metadata": {},
   "outputs": [],
   "source": []
  }
 ],
 "metadata": {
  "kernelspec": {
   "display_name": "Python 3",
   "language": "python",
   "name": "python3"
  },
  "language_info": {
   "codemirror_mode": {
    "name": "ipython",
    "version": 3
   },
   "file_extension": ".py",
   "mimetype": "text/x-python",
   "name": "python",
   "nbconvert_exporter": "python",
   "pygments_lexer": "ipython3",
   "version": "3.7.1"
  }
 },
 "nbformat": 4,
 "nbformat_minor": 2
}
