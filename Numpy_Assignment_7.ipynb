{
 "cells": [
  {
   "cell_type": "markdown",
   "metadata": {},
   "source": [
    "Write a function so that the columns of the output matrix are powers of the input\n",
    "vector.\n",
    "The order of the powers is determined by the increasing boolean argument. Specifically, when\n",
    "increasing is False, the i-th output column is the input vector raised element-wise to the power\n",
    "of N - i - 1.\n",
    "\n",
    "HINT: Such a matrix with a geometric progression in each row is named for Alexandre-\n",
    "Theophile Vandermonde."
   ]
  },
  {
   "cell_type": "code",
   "execution_count": 16,
   "metadata": {},
   "outputs": [
    {
     "name": "stdout",
     "output_type": "stream",
     "text": [
      "input matrix- [1 2 3 4 5]\n",
      "Number of columns in output matrix: 4 \n",
      "\n",
      "Matrix when increasing arguement is False :\n",
      " [[  1   1   1   1]\n",
      " [  8   4   2   1]\n",
      " [ 27   9   3   1]\n",
      " [ 64  16   4   1]\n",
      " [125  25   5   1]]\n",
      "Matrix when increasing arguement is True :\n",
      " [[  1   1   1   1]\n",
      " [  1   2   4   8]\n",
      " [  1   3   9  27]\n",
      " [  1   4  16  64]\n",
      " [  1   5  25 125]]\n"
     ]
    }
   ],
   "source": [
    "import numpy as np\n",
    "\n",
    "def gen_vander_matrix(input_matrix, n, increasing=False):\n",
    "    \n",
    "    if not increasing:\n",
    "        op_matx = np.array([x**(n-1-i) for x in input_matrix for i in range(n)]).reshape(input_matrix.size,n)\n",
    "        \n",
    "    elif increasing:\n",
    "        op_matx = np.array([x**i for x in input_matrix for i in range(n)]).reshape(input_matrix.size,n)\n",
    "    \n",
    "    return op_matx\n",
    "\n",
    "input_matrix=np.array([1,2,3,4,5])\n",
    "num_col_opmat=4\n",
    "print(\"input matrix-\",input_matrix)\n",
    "print(\"Number of columns in output matrix:\",num_col_opmat,\"\\n\")\n",
    "op_matrix_descendng=gen_vander_matrix(input_matrix,num_col_opmat,False)\n",
    "print(\"Matrix when increasing arguement is False :\\n\",op_matrix_descendng)\n",
    "\n",
    "\n",
    "op_matrix_ascending=gen_vander_matrix(input_matrix,num_col_opmat,True)\n",
    "print(\"Matrix when increasing arguement is True :\\n\",op_matrix_ascending)\n"
   ]
  },
  {
   "cell_type": "markdown",
   "metadata": {},
   "source": [
    "2.Question: Write a function to find moving average in an array over a window:\n",
    "Test it over [3, 5, 7, 2, 8, 10, 11, 65, 72, 81, 99, 100, 150] and window of 3."
   ]
  },
  {
   "cell_type": "code",
   "execution_count": 15,
   "metadata": {},
   "outputs": [
    {
     "name": "stdout",
     "output_type": "stream",
     "text": [
      "Moving average array for the given array with window size 3 are \n",
      "[  5.           4.66666667   5.66666667   6.66666667   9.66666667\n",
      "  28.66666667  49.33333333  72.66666667  84.          93.33333333\n",
      " 116.33333333]-\n"
     ]
    }
   ],
   "source": [
    "\n",
    "def gen_moving_avg(input_matrix,window):     \n",
    "    return np.array([np.sum(input_matrix[i:i+window])/window for i in range(input_matrix.size - window +1)])\n",
    "        \n",
    "\n",
    "input_array=np.array([3, 5, 7, 2, 8, 10, 11, 65, 72, 81, 99, 100, 150])\n",
    "window=3\n",
    "print(\"Moving average array for the given array with window size {} are \\n{}-\".format(window,gen_moving_avg(input_array,window)))"
   ]
  },
  {
   "cell_type": "code",
   "execution_count": null,
   "metadata": {},
   "outputs": [],
   "source": []
  }
 ],
 "metadata": {
  "kernelspec": {
   "display_name": "Python 3",
   "language": "python",
   "name": "python3"
  },
  "language_info": {
   "codemirror_mode": {
    "name": "ipython",
    "version": 3
   },
   "file_extension": ".py",
   "mimetype": "text/x-python",
   "name": "python",
   "nbconvert_exporter": "python",
   "pygments_lexer": "ipython3",
   "version": "3.7.1"
  }
 },
 "nbformat": 4,
 "nbformat_minor": 2
}
